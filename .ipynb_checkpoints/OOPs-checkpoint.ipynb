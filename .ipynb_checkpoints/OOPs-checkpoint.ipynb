{
 "cells": [
  {
   "cell_type": "code",
   "execution_count": 3,
   "metadata": {},
   "outputs": [],
   "source": [
    "# name mangling"
   ]
  },
  {
   "cell_type": "code",
   "execution_count": 2,
   "metadata": {},
   "outputs": [],
   "source": [
    "# push many and pop many in stack  program using class"
   ]
  },
  {
   "cell_type": "code",
   "execution_count": 16,
   "metadata": {},
   "outputs": [
    {
     "name": "stdout",
     "output_type": "stream",
     "text": [
      "[5, 2, 3]\n"
     ]
    }
   ],
   "source": [
    "l=[1,5,2,3]\n",
    "l.remove(l[0])\n",
    "print(l)"
   ]
  },
  {
   "cell_type": "code",
   "execution_count": 29,
   "metadata": {},
   "outputs": [],
   "source": [
    "class queue :\n",
    "    total_queue=0\n",
    "    def __init__(self) :\n",
    "        self.data=[]\n",
    "        self.total_queue+=1\n",
    "    def push(self,item) :\n",
    "        self.data.append(item)\n",
    "        print(f\"{item} added\")\n",
    "    def pop(self) :\n",
    "        if len(self.data) :\n",
    "            self.data.remove(self.data[0])\n",
    "            print(\"delete\")\n",
    "        else :\n",
    "            print(\" your queue is empty\")\n",
    "    def __str__(self) :\n",
    "        return str(self,data)\n",
    "        \n",
    "              "
   ]
  },
  {
   "cell_type": "code",
   "execution_count": 30,
   "metadata": {},
   "outputs": [
    {
     "name": "stdout",
     "output_type": "stream",
     "text": [
      "0 added\n",
      "1 added\n",
      "2 added\n",
      "3 added\n",
      "4 added\n"
     ]
    }
   ],
   "source": [
    "s1=queue()\n",
    "for var in range(5) :\n",
    "    s1.push(var)\n",
    "    "
   ]
  },
  {
   "cell_type": "code",
   "execution_count": 31,
   "metadata": {},
   "outputs": [
    {
     "name": "stdout",
     "output_type": "stream",
     "text": [
      "delete\n"
     ]
    }
   ],
   "source": [
    "s1.pop()"
   ]
  },
  {
   "cell_type": "code",
   "execution_count": 2,
   "metadata": {},
   "outputs": [],
   "source": [
    "class b :\n",
    "    def hello() :\n",
    "        print(\"hello\")\n"
   ]
  },
  {
   "cell_type": "code",
   "execution_count": 3,
   "metadata": {},
   "outputs": [
    {
     "name": "stdout",
     "output_type": "stream",
     "text": [
      "hello\n"
     ]
    }
   ],
   "source": [
    "b.hello()"
   ]
  },
  {
   "cell_type": "code",
   "execution_count": 1,
   "metadata": {},
   "outputs": [],
   "source": [
    "class student :\n",
    "    total_student=0\n",
    "    def __init__(self,stu_name,stu_email,stu_ph,stu_course,fees) :\n",
    "        self.name=stu_name\n",
    "        self.email=stu_email\n",
    "        self.ph=stu_ph\n",
    "        self.course=stu_course\n",
    "        self.fees=fees\n",
    "        student.total_student+=1\n",
    "    def info(self) :\n",
    "        print(\"Name :\",self.name)\n",
    "        print(\"Email :\",self.email)\n",
    "        print(\"Ph.no :\",self.ph)\n",
    "        print(\"Course :\",self.course)\n",
    "        print(\"Fees :\",self.fees)\n",
    "    def change_name(self,stu_new_name) :\n",
    "        print(\"old name\",self.name)\n",
    "        self.name=stu_new_name\n",
    "        print(\"your new name is \",self.name)\n",
    "        "
   ]
  },
  {
   "cell_type": "code",
   "execution_count": 4,
   "metadata": {},
   "outputs": [],
   "source": [
    "amit = student('amit','amit@gmail.com',32878947,'btech',80000)"
   ]
  },
  {
   "cell_type": "code",
   "execution_count": 5,
   "metadata": {},
   "outputs": [
    {
     "name": "stdout",
     "output_type": "stream",
     "text": [
      "<__main__.student object at 0x00000063237E3EB8>\n"
     ]
    }
   ],
   "source": [
    "print(amit)"
   ]
  },
  {
   "cell_type": "code",
   "execution_count": 6,
   "metadata": {},
   "outputs": [
    {
     "name": "stdout",
     "output_type": "stream",
     "text": [
      "Name : amit\n",
      "Email : amit@gmail.com\n",
      "Ph.no : 32878947\n",
      "Course : btech\n",
      "Fees : 80000\n"
     ]
    }
   ],
   "source": [
    "amit.info()"
   ]
  },
  {
   "cell_type": "code",
   "execution_count": 11,
   "metadata": {},
   "outputs": [],
   "source": [
    "class parent :\n",
    "    def __init__(self,name) :\n",
    "        self.name=name \n",
    "    def show(self) :\n",
    "        print(\"parent name is :\",self.name)\n",
    "class child(parent) :\n",
    "    def __init__(self,name,colour) :\n",
    "        #parent.__init__(self,name)\n",
    "        #or\n",
    "        super().__init__(name) \n",
    "    def dislay(self) :\n",
    "        print(\"name is \",self.name)\n",
    "        print(\"colour is \",self.colour)"
   ]
  },
  {
   "cell_type": "code",
   "execution_count": 13,
   "metadata": {},
   "outputs": [],
   "source": [
    "c=child('amit','red')"
   ]
  },
  {
   "cell_type": "code",
   "execution_count": null,
   "metadata": {},
   "outputs": [],
   "source": []
  }
 ],
 "metadata": {
  "kernelspec": {
   "display_name": "Python 3",
   "language": "python",
   "name": "python3"
  },
  "language_info": {
   "codemirror_mode": {
    "name": "ipython",
    "version": 3
   },
   "file_extension": ".py",
   "mimetype": "text/x-python",
   "name": "python",
   "nbconvert_exporter": "python",
   "pygments_lexer": "ipython3",
   "version": "3.6.5"
  }
 },
 "nbformat": 4,
 "nbformat_minor": 2
}
