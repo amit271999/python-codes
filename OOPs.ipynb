{
 "cells": [
  {
   "cell_type": "code",
   "execution_count": 3,
   "metadata": {},
   "outputs": [],
   "source": [
    "# name mangling"
   ]
  },
  {
   "cell_type": "code",
   "execution_count": 2,
   "metadata": {},
   "outputs": [],
   "source": [
    "# push many and pop many in stack  program using class"
   ]
  },
  {
   "cell_type": "code",
   "execution_count": 4,
   "metadata": {},
   "outputs": [
    {
     "name": "stdout",
     "output_type": "stream",
     "text": [
      "[5, 2, 3]\n"
     ]
    }
   ],
   "source": [
    "l=[1,5,2,3]\n",
    "l.remove(l[0])\n",
    "print(l)"
   ]
  },
  {
   "cell_type": "code",
   "execution_count": 5,
   "metadata": {},
   "outputs": [],
   "source": [
    "class queue :\n",
    "    total_queue=0\n",
    "    def __init__(self) :\n",
    "        self.data=[]\n",
    "        self.total_queue+=1\n",
    "    def push(self,item) :\n",
    "        self.data.append(item)\n",
    "        print(f\"{item} added\")\n",
    "    def pop(self) :\n",
    "        if len(self.data) :\n",
    "            self.data.remove(self.data[0])\n",
    "            print(\"delete\")\n",
    "        else :\n",
    "            print(\" your queue is empty\")\n",
    "    def __str__(self) :\n",
    "        return str(self,data)\n",
    "        \n",
    "              "
   ]
  },
  {
   "cell_type": "code",
   "execution_count": 30,
   "metadata": {},
   "outputs": [
    {
     "name": "stdout",
     "output_type": "stream",
     "text": [
      "0 added\n",
      "1 added\n",
      "2 added\n",
      "3 added\n",
      "4 added\n"
     ]
    }
   ],
   "source": [
    "s1=queue()\n",
    "for var in range(5) :\n",
    "    s1.push(var)\n",
    "    "
   ]
  },
  {
   "cell_type": "code",
   "execution_count": 31,
   "metadata": {},
   "outputs": [
    {
     "name": "stdout",
     "output_type": "stream",
     "text": [
      "delete\n"
     ]
    }
   ],
   "source": [
    "s1.pop()"
   ]
  },
  {
   "cell_type": "code",
   "execution_count": 2,
   "metadata": {},
   "outputs": [],
   "source": [
    "class b :\n",
    "    def hello() :\n",
    "        print(\"hello\")\n"
   ]
  },
  {
   "cell_type": "code",
   "execution_count": 3,
   "metadata": {},
   "outputs": [
    {
     "name": "stdout",
     "output_type": "stream",
     "text": [
      "hello\n"
     ]
    }
   ],
   "source": [
    "b.hello()"
   ]
  },
  {
   "cell_type": "code",
   "execution_count": 1,
   "metadata": {},
   "outputs": [],
   "source": [
    "class student :\n",
    "    total_student=0\n",
    "    def __init__(self,stu_name,stu_email,stu_ph,stu_course,fees) :\n",
    "        self.name=stu_name\n",
    "        self.email=stu_email\n",
    "        self.ph=stu_ph\n",
    "        self.course=stu_course\n",
    "        self.fees=fees\n",
    "        student.total_student+=1\n",
    "    def info(self) :\n",
    "        print(\"Name :\",self.name)\n",
    "        print(\"Email :\",self.email)\n",
    "        print(\"Ph.no :\",self.ph)\n",
    "        print(\"Course :\",self.course)\n",
    "        print(\"Fees :\",self.fees)\n",
    "    def change_name(self,stu_new_name) :\n",
    "        print(\"old name\",self.name)\n",
    "        self.name=stu_new_name\n",
    "        print(\"your new name is \",self.name)\n",
    "        "
   ]
  },
  {
   "cell_type": "code",
   "execution_count": 4,
   "metadata": {},
   "outputs": [],
   "source": [
    "amit = student('amit','amit@gmail.com',32878947,'btech',80000)"
   ]
  },
  {
   "cell_type": "code",
   "execution_count": 5,
   "metadata": {},
   "outputs": [
    {
     "name": "stdout",
     "output_type": "stream",
     "text": [
      "<__main__.student object at 0x00000063237E3EB8>\n"
     ]
    }
   ],
   "source": [
    "print(amit)"
   ]
  },
  {
   "cell_type": "code",
   "execution_count": 6,
   "metadata": {},
   "outputs": [
    {
     "name": "stdout",
     "output_type": "stream",
     "text": [
      "Name : amit\n",
      "Email : amit@gmail.com\n",
      "Ph.no : 32878947\n",
      "Course : btech\n",
      "Fees : 80000\n"
     ]
    }
   ],
   "source": [
    "amit.info()"
   ]
  },
  {
   "cell_type": "code",
   "execution_count": 25,
   "metadata": {},
   "outputs": [],
   "source": [
    "class parent :\n",
    "    def __init__(self,name,colour) :\n",
    "        self.name=name \n",
    "    def show(self) :\n",
    "        print(\"parent name is :\",self.name)\n",
    "class child(parent) :\n",
    "    def __init__(self,name,colour) :\n",
    "        #parent.__init__(self,name)\n",
    "        #or\n",
    "        super().__init__(name,colour) \n",
    "        self.colour=colour\n",
    "    def display(self) :\n",
    "        print(\"name is \",self.name)\n",
    "        print(\"colour is \",self.colour)"
   ]
  },
  {
   "cell_type": "code",
   "execution_count": 26,
   "metadata": {},
   "outputs": [],
   "source": [
    "c=child('amit','red')"
   ]
  },
  {
   "cell_type": "code",
   "execution_count": 27,
   "metadata": {},
   "outputs": [
    {
     "name": "stdout",
     "output_type": "stream",
     "text": [
      "name is  amit\n",
      "colour is  red\n"
     ]
    }
   ],
   "source": [
    "c.display()"
   ]
  },
  {
   "cell_type": "code",
   "execution_count": 28,
   "metadata": {},
   "outputs": [],
   "source": [
    "# method resolution order  (MRO)       -----------\n",
    "# left to right and bottom to top ----------- in  inhetience"
   ]
  },
  {
   "cell_type": "code",
   "execution_count": 1,
   "metadata": {},
   "outputs": [],
   "source": [
    "class A :\n",
    "    __slot__ =['name','age','add','city']\n",
    "    def __init__(self,name,age) :\n",
    "        self.name=name\n",
    "        self.age=age\n",
    "    def show(self) :\n",
    "        print(\"name :\",self.name)\n",
    "        print(\"age :\",self.age)\n",
    "        \n",
    "        "
   ]
  },
  {
   "cell_type": "code",
   "execution_count": 4,
   "metadata": {},
   "outputs": [],
   "source": [
    "a1=A('amit',18)"
   ]
  },
  {
   "cell_type": "code",
   "execution_count": 5,
   "metadata": {},
   "outputs": [
    {
     "name": "stdout",
     "output_type": "stream",
     "text": [
      "name : amit\n",
      "age : 18\n"
     ]
    }
   ],
   "source": [
    "a1.show()"
   ]
  },
  {
   "cell_type": "code",
   "execution_count": 7,
   "metadata": {},
   "outputs": [],
   "source": [
    "a1.city='jaipur'"
   ]
  },
  {
   "cell_type": "code",
   "execution_count": 8,
   "metadata": {},
   "outputs": [
    {
     "name": "stdout",
     "output_type": "stream",
     "text": [
      "name : amit\n",
      "age : 18\n"
     ]
    }
   ],
   "source": [
    "a1.show()"
   ]
  },
  {
   "cell_type": "code",
   "execution_count": 9,
   "metadata": {},
   "outputs": [],
   "source": [
    "a1.askjk='sahfjah'"
   ]
  },
  {
   "cell_type": "code",
   "execution_count": 10,
   "metadata": {},
   "outputs": [
    {
     "data": {
      "text/plain": [
       "'sahfjah'"
      ]
     },
     "execution_count": 10,
     "metadata": {},
     "output_type": "execute_result"
    }
   ],
   "source": [
    "a1.askjk"
   ]
  },
  {
   "cell_type": "code",
   "execution_count": 11,
   "metadata": {},
   "outputs": [],
   "source": [
    "a1.asdjfhj='askfjk'"
   ]
  },
  {
   "cell_type": "code",
   "execution_count": 13,
   "metadata": {},
   "outputs": [],
   "source": [
    "a1.hello='hi'"
   ]
  },
  {
   "cell_type": "code",
   "execution_count": 16,
   "metadata": {},
   "outputs": [
    {
     "ename": "NameError",
     "evalue": "name 'message' is not defined",
     "output_type": "error",
     "traceback": [
      "\u001b[1;31m---------------------------------------------------------------------------\u001b[0m",
      "\u001b[1;31mNameError\u001b[0m                                 Traceback (most recent call last)",
      "\u001b[1;32m<ipython-input-16-6a9f17af8de7>\u001b[0m in \u001b[0;36m<module>\u001b[1;34m()\u001b[0m\n\u001b[1;32m----> 1\u001b[1;33m \u001b[1;32mclass\u001b[0m \u001b[0mA\u001b[0m \u001b[1;33m:\u001b[0m\u001b[1;33m\u001b[0m\u001b[0m\n\u001b[0m\u001b[0;32m      2\u001b[0m     \u001b[0m_msg\u001b[0m\u001b[1;33m=\u001b[0m\u001b[1;34m'hello welcome to my world'\u001b[0m\u001b[1;33m\u001b[0m\u001b[0m\n\u001b[0;32m      3\u001b[0m     \u001b[1;33m@\u001b[0m\u001b[0mmessage\u001b[0m\u001b[1;33m\u001b[0m\u001b[0m\n\u001b[0;32m      4\u001b[0m     \u001b[1;32mdef\u001b[0m \u001b[0mmessage\u001b[0m\u001b[1;33m(\u001b[0m\u001b[0mself\u001b[0m\u001b[1;33m)\u001b[0m \u001b[1;33m:\u001b[0m\u001b[1;33m\u001b[0m\u001b[0m\n\u001b[0;32m      5\u001b[0m         \u001b[0mprint\u001b[0m\u001b[1;33m(\u001b[0m\u001b[0mA\u001b[0m\u001b[1;33m.\u001b[0m\u001b[0m_msg\u001b[0m\u001b[1;33m)\u001b[0m\u001b[1;33m\u001b[0m\u001b[0m\n",
      "\u001b[1;32m<ipython-input-16-6a9f17af8de7>\u001b[0m in \u001b[0;36mA\u001b[1;34m()\u001b[0m\n\u001b[0;32m      1\u001b[0m \u001b[1;32mclass\u001b[0m \u001b[0mA\u001b[0m \u001b[1;33m:\u001b[0m\u001b[1;33m\u001b[0m\u001b[0m\n\u001b[0;32m      2\u001b[0m     \u001b[0m_msg\u001b[0m\u001b[1;33m=\u001b[0m\u001b[1;34m'hello welcome to my world'\u001b[0m\u001b[1;33m\u001b[0m\u001b[0m\n\u001b[1;32m----> 3\u001b[1;33m     \u001b[1;33m@\u001b[0m\u001b[0mmessage\u001b[0m\u001b[1;33m\u001b[0m\u001b[0m\n\u001b[0m\u001b[0;32m      4\u001b[0m     \u001b[1;32mdef\u001b[0m \u001b[0mmessage\u001b[0m\u001b[1;33m(\u001b[0m\u001b[0mself\u001b[0m\u001b[1;33m)\u001b[0m \u001b[1;33m:\u001b[0m\u001b[1;33m\u001b[0m\u001b[0m\n\u001b[0;32m      5\u001b[0m         \u001b[0mprint\u001b[0m\u001b[1;33m(\u001b[0m\u001b[0mA\u001b[0m\u001b[1;33m.\u001b[0m\u001b[0m_msg\u001b[0m\u001b[1;33m)\u001b[0m\u001b[1;33m\u001b[0m\u001b[0m\n",
      "\u001b[1;31mNameError\u001b[0m: name 'message' is not defined"
     ]
    }
   ],
   "source": [
    "class A :\n",
    "    _msg='hello welcome to my world'\n",
    "    @message\n",
    "    def message(self) :\n",
    "        print(A._msg)\n",
    "    @message.setter\n",
    "    def message(self,msg) :\n",
    "        A._msg=msg\n",
    "\n",
    "a=A()\n",
    "a.message()"
   ]
  },
  {
   "cell_type": "code",
   "execution_count": 17,
   "metadata": {},
   "outputs": [],
   "source": [
    "class A :\n",
    "    x='hello'\n",
    "    def hello(self) :\n",
    "        print(A.x)"
   ]
  },
  {
   "cell_type": "code",
   "execution_count": 18,
   "metadata": {},
   "outputs": [],
   "source": [
    "a=A()"
   ]
  },
  {
   "cell_type": "code",
   "execution_count": 19,
   "metadata": {},
   "outputs": [
    {
     "name": "stdout",
     "output_type": "stream",
     "text": [
      "hello\n"
     ]
    }
   ],
   "source": [
    "a.hello()"
   ]
  },
  {
   "cell_type": "code",
   "execution_count": 6,
   "metadata": {},
   "outputs": [],
   "source": [
    "#exception handling"
   ]
  },
  {
   "cell_type": "code",
   "execution_count": 7,
   "metadata": {},
   "outputs": [
    {
     "name": "stdout",
     "output_type": "stream",
     "text": [
      "enter the numhsdjh\n",
      "try again\n",
      "enter the numsjdakj\n",
      "try again\n",
      "enter the num54\n",
      "square is : 2916\n"
     ]
    }
   ],
   "source": [
    "while True :\n",
    "    try :\n",
    "        num=int(input(\"enter the num\"))\n",
    "        print(\"square is :\",num**2)\n",
    "        break\n",
    "    except  :\n",
    "        print(\"try again\")"
   ]
  },
  {
   "cell_type": "code",
   "execution_count": null,
   "metadata": {},
   "outputs": [],
   "source": [
    "\n",
    "    "
   ]
  },
  {
   "cell_type": "code",
   "execution_count": 9,
   "metadata": {},
   "outputs": [],
   "source": [
    "import builtins"
   ]
  },
  {
   "cell_type": "code",
   "execution_count": 10,
   "metadata": {},
   "outputs": [
    {
     "name": "stdout",
     "output_type": "stream",
     "text": [
      "['ArithmeticError', 'AssertionError', 'AttributeError', 'BaseException', 'BlockingIOError', 'BrokenPipeError', 'BufferError', 'BytesWarning', 'ChildProcessError', 'ConnectionAbortedError', 'ConnectionError', 'ConnectionRefusedError', 'ConnectionResetError', 'DeprecationWarning', 'EOFError', 'Ellipsis', 'EnvironmentError', 'Exception', 'False', 'FileExistsError', 'FileNotFoundError', 'FloatingPointError', 'FutureWarning', 'GeneratorExit', 'IOError', 'ImportError', 'ImportWarning', 'IndentationError', 'IndexError', 'InterruptedError', 'IsADirectoryError', 'KeyError', 'KeyboardInterrupt', 'LookupError', 'MemoryError', 'ModuleNotFoundError', 'NameError', 'None', 'NotADirectoryError', 'NotImplemented', 'NotImplementedError', 'OSError', 'OverflowError', 'PendingDeprecationWarning', 'PermissionError', 'ProcessLookupError', 'RecursionError', 'ReferenceError', 'ResourceWarning', 'RuntimeError', 'RuntimeWarning', 'StopAsyncIteration', 'StopIteration', 'SyntaxError', 'SyntaxWarning', 'SystemError', 'SystemExit', 'TabError', 'TimeoutError', 'True', 'TypeError', 'UnboundLocalError', 'UnicodeDecodeError', 'UnicodeEncodeError', 'UnicodeError', 'UnicodeTranslateError', 'UnicodeWarning', 'UserWarning', 'ValueError', 'Warning', 'WindowsError', 'ZeroDivisionError', '__IPYTHON__', '__build_class__', '__debug__', '__doc__', '__import__', '__loader__', '__name__', '__package__', '__spec__', 'abs', 'all', 'any', 'ascii', 'bin', 'bool', 'bytearray', 'bytes', 'callable', 'chr', 'classmethod', 'compile', 'complex', 'copyright', 'credits', 'delattr', 'dict', 'dir', 'display', 'divmod', 'enumerate', 'eval', 'exec', 'filter', 'float', 'format', 'frozenset', 'get_ipython', 'getattr', 'globals', 'hasattr', 'hash', 'help', 'hex', 'id', 'input', 'int', 'isinstance', 'issubclass', 'iter', 'len', 'license', 'list', 'locals', 'map', 'max', 'memoryview', 'min', 'next', 'object', 'oct', 'open', 'ord', 'pow', 'print', 'property', 'range', 'repr', 'reversed', 'round', 'set', 'setattr', 'slice', 'sorted', 'staticmethod', 'str', 'sum', 'super', 'tuple', 'type', 'vars', 'zip']\n"
     ]
    }
   ],
   "source": [
    "print(dir(builtins))"
   ]
  },
  {
   "cell_type": "code",
   "execution_count": 23,
   "metadata": {},
   "outputs": [
    {
     "name": "stdout",
     "output_type": "stream",
     "text": [
      "dshjhf\n",
      "error invalid literal for int() with base 10: 'dshjhf'\n",
      "value error\n",
      "5\n",
      "0\n",
      "error division by zero\n",
      "cannot divide by zero\n",
      "5\n",
      "6\n",
      "0.8333333333333334\n"
     ]
    }
   ],
   "source": [
    "while True :\n",
    "    try :\n",
    "        x=int(input())\n",
    "        y=int(input())\n",
    "        r=x/y\n",
    "        print(r)\n",
    "        break\n",
    "    except ValueError as msg :\n",
    "        print(f\"error {msg}\")\n",
    "        print(\"value error\")\n",
    "    except ZeroDivisionError as msg :\n",
    "        print(f\"error {msg}\")\n",
    "        print(\"cannot divide by zero\")\n",
    "    except Exception as msg :\n",
    "        print(f\"error {msg}\")"
   ]
  },
  {
   "cell_type": "code",
   "execution_count": 26,
   "metadata": {},
   "outputs": [
    {
     "name": "stdout",
     "output_type": "stream",
     "text": [
      "1\n",
      "0\n",
      "error division by zero\n",
      "cannot divide by zero\n",
      "5\n",
      "8\n",
      "0.625\n"
     ]
    }
   ],
   "source": [
    "while True :\n",
    "    try :\n",
    "        x=int(input())\n",
    "        y=int(input())\n",
    "        r=x/y\n",
    "        print(r)\n",
    "        break\n",
    "    except ValueError as err :\n",
    "        print(f\"error {err} \")\n",
    "        print(\"value error\")\n",
    "    except ZeroDivisionError as msg :\n",
    "        print(f\"error {msg}\")\n",
    "        print(\"cannot divide by zero\")\n",
    "    except Exception as msg :\n",
    "        print(f\"error {msg}\")"
   ]
  },
  {
   "cell_type": "code",
   "execution_count": 1,
   "metadata": {},
   "outputs": [
    {
     "name": "stdout",
     "output_type": "stream",
     "text": [
      "\n",
      "Error!! invalid literal for int() with base 10: ''\n",
      "it will run weather the success comes or not\n",
      "ghgj\n",
      "Error!! invalid literal for int() with base 10: 'ghgj'\n",
      "it will run weather the success comes or not\n",
      "45\n",
      "success\n",
      "it will run weather the success comes or not\n"
     ]
    }
   ],
   "source": [
    "while True :\n",
    "    try :\n",
    "        x=int(input())\n",
    "    except ValueError as msg :\n",
    "        print(f\"Error!! {msg}\")\n",
    "    else :\n",
    "        print(\"success\")\n",
    "        break\n",
    "        \n",
    "    finally  :\n",
    "        print(\"it will run weather the success comes or not\")"
   ]
  },
  {
   "cell_type": "code",
   "execution_count": 2,
   "metadata": {},
   "outputs": [],
   "source": [
    "# raise is used for custom exception i.e for raising the exception"
   ]
  },
  {
   "cell_type": "code",
   "execution_count": 3,
   "metadata": {},
   "outputs": [],
   "source": [
    "# AssertionError"
   ]
  },
  {
   "cell_type": "code",
   "execution_count": 6,
   "metadata": {},
   "outputs": [
    {
     "name": "stdout",
     "output_type": "stream",
     "text": [
      "-98\n",
      "error number should be positive\n"
     ]
    }
   ],
   "source": [
    "try :\n",
    "    num=int(input())\n",
    "    assert num>0 ,\"number should be positive\"\n",
    "except AssertionError as e :\n",
    "    print(\"error\",e)\n",
    "    "
   ]
  },
  {
   "cell_type": "code",
   "execution_count": 10,
   "metadata": {},
   "outputs": [],
   "source": [
    "class  MyError(Exception)  :\n",
    "    def __init__(self,msg):\n",
    "        super().__init__(msg)\n",
    "            "
   ]
  },
  {
   "cell_type": "code",
   "execution_count": null,
   "metadata": {},
   "outputs": [],
   "source": [
    "try :\n",
    "    x=int(input())\n",
    "    raise"
   ]
  }
 ],
 "metadata": {
  "kernelspec": {
   "display_name": "Python 3",
   "language": "python",
   "name": "python3"
  },
  "language_info": {
   "codemirror_mode": {
    "name": "ipython",
    "version": 3
   },
   "file_extension": ".py",
   "mimetype": "text/x-python",
   "name": "python",
   "nbconvert_exporter": "python",
   "pygments_lexer": "ipython3",
   "version": "3.6.5"
  }
 },
 "nbformat": 4,
 "nbformat_minor": 2
}
