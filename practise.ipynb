{
 "cells": [
  {
   "cell_type": "code",
   "execution_count": 7,
   "metadata": {},
   "outputs": [
    {
     "name": "stdout",
     "output_type": "stream",
     "text": [
      "enter the size 14\n",
      "*      *******\n",
      "\n",
      "*      *      \n",
      "\n",
      "*      *      \n",
      "\n",
      "*      *      \n",
      "\n",
      "*      *      \n",
      "\n",
      "*      *      \n",
      "\n",
      "*      *      \n",
      "\n",
      "**************\n",
      "\n",
      "       *     *\n",
      "\n",
      "       *     *\n",
      "\n",
      "       *     *\n",
      "\n",
      "       *     *\n",
      "\n",
      "       *     *\n",
      "\n",
      "       *     *\n",
      "\n",
      "*******      *"
     ]
    }
   ],
   "source": [
    "n=int(input(\"enter the size \"))\n",
    "mid=n//2\n",
    "i=1\n",
    "while i<=n :\n",
    "    if i==1 or i>mid :\n",
    "        print(\"*\",end='')\n",
    "    else :\n",
    "        print(\" \",end='')\n",
    "    i=i+1  \n",
    "print('\\n')    \n",
    "i=1\n",
    "j=1\n",
    "while j<=(mid-1) :\n",
    "    while i<=n :\n",
    "        if i==1 or i==mid+1 :\n",
    "            print(\"*\",end='')\n",
    "        else :\n",
    "            print(\" \",end='')\n",
    "        i+=1\n",
    "    print(\"\\n\")    \n",
    "    i=1\n",
    "    j+=1\n",
    "i=1\n",
    "while i<=n :\n",
    "    print(\"*\",end='')\n",
    "    i+=1\n",
    "i=1\n",
    "j=1\n",
    "print(\"\\n\")\n",
    "while j<=(mid-1) :\n",
    "    while i<=n :\n",
    "        if i==mid+1 or i==n :\n",
    "            print(\"*\",end='')\n",
    "        else :\n",
    "            print(\" \",end='')\n",
    "        i+=1\n",
    "    print(\"\\n\")    \n",
    "    i=1\n",
    "    j+=1\n",
    "\n",
    "for var in range(1,n+1) :\n",
    "    if var==n or var<=mid :\n",
    "        print(\"*\",end='')\n",
    "    else :\n",
    "        print(\" \",end='')\n",
    "    \n",
    "        \n",
    "    "
   ]
  },
  {
   "cell_type": "code",
   "execution_count": 9,
   "metadata": {},
   "outputs": [
    {
     "name": "stdout",
     "output_type": "stream",
     "text": [
      "12\n",
      "*    *     \n",
      "\n",
      "\n",
      "\n",
      "\n",
      "\n"
     ]
    }
   ],
   "source": [
    "n=int(input())\n",
    "mid=n//2\n",
    "i=1\n",
    "j=1\n",
    "while j<4 :\n",
    "    while i<n :\n",
    "        if i==1 or i==mid :\n",
    "            print(\"*\",end='')\n",
    "        else :\n",
    "            print(\" \",end='')\n",
    "        i+=1\n",
    "    print(\"\\n\")\n",
    "    j+=1"
   ]
  },
  {
   "cell_type": "code",
   "execution_count": null,
   "metadata": {},
   "outputs": [
    {
     "name": "stdout",
     "output_type": "stream",
     "text": [
      "* *  "
     ]
    }
   ],
   "source": [
    "i=1\n",
    "j=1\n",
    "while j<4 :\n",
    "    while i<6 :\n",
    "        if i==1 or i==6//2 :\n",
    "            print(\"*\",end=\"\")\n",
    "        else :\n",
    "            print(\" \",end='')\n",
    "        i+=1\n",
    "       "
   ]
  },
  {
   "cell_type": "code",
   "execution_count": 5,
   "metadata": {},
   "outputs": [
    {
     "name": "stdout",
     "output_type": "stream",
     "text": [
      "********       *"
     ]
    }
   ],
   "source": [
    "for var in range(1,17) :\n",
    "    if var==16 or var<=8 :\n",
    "        print(\"*\",end='')\n",
    "    else :\n",
    "        print(\" \",end='')"
   ]
  },
  {
   "cell_type": "code",
   "execution_count": 8,
   "metadata": {},
   "outputs": [
    {
     "name": "stdout",
     "output_type": "stream",
     "text": [
      "\n",
      "*\n",
      "**\n",
      "***\n",
      "****\n",
      "*****\n"
     ]
    }
   ],
   "source": [
    "for var in range(6) :\n",
    "    print(\"*\"*var)"
   ]
  },
  {
   "cell_type": "code",
   "execution_count": 9,
   "metadata": {},
   "outputs": [
    {
     "name": "stdout",
     "output_type": "stream",
     "text": [
      "******\n",
      "*****\n",
      "****\n",
      "***\n",
      "**\n",
      "*\n"
     ]
    }
   ],
   "source": [
    "for var in range(6,0,-1) :\n",
    "    print(\"*\"*var)"
   ]
  },
  {
   "cell_type": "code",
   "execution_count": 12,
   "metadata": {},
   "outputs": [
    {
     "name": "stdout",
     "output_type": "stream",
     "text": [
      "     *****\n",
      "    ****\n",
      "   ***\n",
      "  **\n",
      " *\n"
     ]
    }
   ],
   "source": [
    "for var in range(5,0,-1) :\n",
    "    print(\" \"*var,end='')\n",
    "    print(\"*\"*var)"
   ]
  },
  {
   "cell_type": "code",
   "execution_count": null,
   "metadata": {},
   "outputs": [],
   "source": [
    "     *\n",
    "    **\n",
    "   ***\n",
    "  ****\n",
    " *****\n",
    "******"
   ]
  },
  {
   "cell_type": "code",
   "execution_count": 16,
   "metadata": {},
   "outputs": [
    {
     "name": "stdout",
     "output_type": "stream",
     "text": [
      "      \n",
      "     *\n",
      "    **\n",
      "   ***\n",
      "  ****\n",
      " *****\n"
     ]
    }
   ],
   "source": [
    "for var in range(6) :\n",
    "    print(\" \"*(6-var),end='')\n",
    "    print(\"*\"*var)"
   ]
  },
  {
   "cell_type": "code",
   "execution_count": 19,
   "metadata": {},
   "outputs": [
    {
     "name": "stdout",
     "output_type": "stream",
     "text": [
      "5\n",
      "              \n",
      "      *      \n",
      "     **     \n",
      "    ***    \n",
      "   ****   \n"
     ]
    }
   ],
   "source": [
    "n=int(input())\n",
    "for var in range(n):\n",
    "    print(\" \"*(mid-var),end='')\n",
    "    print(\"*\"*var,end='')\n",
    "    print(\" \"*(mid-var))"
   ]
  },
  {
   "cell_type": "code",
   "execution_count": 4,
   "metadata": {},
   "outputs": [],
   "source": [
    "f=open(\"C:\\\\Users\\\\Amit\\\\Desktop\\\\file.txt\",'w')"
   ]
  },
  {
   "cell_type": "code",
   "execution_count": 5,
   "metadata": {},
   "outputs": [],
   "source": [
    "x='this is my world !! welcome !'"
   ]
  },
  {
   "cell_type": "code",
   "execution_count": 6,
   "metadata": {},
   "outputs": [
    {
     "data": {
      "text/plain": [
       "29"
      ]
     },
     "execution_count": 6,
     "metadata": {},
     "output_type": "execute_result"
    }
   ],
   "source": [
    "f.write(x)"
   ]
  },
  {
   "cell_type": "code",
   "execution_count": 7,
   "metadata": {},
   "outputs": [
    {
     "data": {
      "text/plain": [
       "0"
      ]
     },
     "execution_count": 7,
     "metadata": {},
     "output_type": "execute_result"
    }
   ],
   "source": [
    "f.seek(0)"
   ]
  },
  {
   "cell_type": "code",
   "execution_count": 9,
   "metadata": {},
   "outputs": [],
   "source": [
    "f.close()"
   ]
  },
  {
   "cell_type": "code",
   "execution_count": 10,
   "metadata": {},
   "outputs": [],
   "source": [
    "f=open(\"C:\\\\Users\\\\Amit\\\\Desktop\\\\file.txt\",'w+')"
   ]
  },
  {
   "cell_type": "code",
   "execution_count": 11,
   "metadata": {},
   "outputs": [
    {
     "data": {
      "text/plain": [
       "''"
      ]
     },
     "execution_count": 11,
     "metadata": {},
     "output_type": "execute_result"
    }
   ],
   "source": [
    "f.read()"
   ]
  },
  {
   "cell_type": "code",
   "execution_count": 12,
   "metadata": {},
   "outputs": [
    {
     "data": {
      "text/plain": [
       "0"
      ]
     },
     "execution_count": 12,
     "metadata": {},
     "output_type": "execute_result"
    }
   ],
   "source": [
    "f.seek(0)"
   ]
  },
  {
   "cell_type": "code",
   "execution_count": 13,
   "metadata": {},
   "outputs": [
    {
     "data": {
      "text/plain": [
       "''"
      ]
     },
     "execution_count": 13,
     "metadata": {},
     "output_type": "execute_result"
    }
   ],
   "source": [
    "f.read()"
   ]
  },
  {
   "cell_type": "code",
   "execution_count": 14,
   "metadata": {},
   "outputs": [],
   "source": [
    "x='welcome ! to my world this is me , hello!!!!!'"
   ]
  },
  {
   "cell_type": "code",
   "execution_count": 15,
   "metadata": {},
   "outputs": [
    {
     "data": {
      "text/plain": [
       "45"
      ]
     },
     "execution_count": 15,
     "metadata": {},
     "output_type": "execute_result"
    }
   ],
   "source": [
    "f.write(x)"
   ]
  },
  {
   "cell_type": "code",
   "execution_count": 16,
   "metadata": {},
   "outputs": [
    {
     "data": {
      "text/plain": [
       "''"
      ]
     },
     "execution_count": 16,
     "metadata": {},
     "output_type": "execute_result"
    }
   ],
   "source": [
    "f.read()"
   ]
  },
  {
   "cell_type": "code",
   "execution_count": 17,
   "metadata": {},
   "outputs": [
    {
     "data": {
      "text/plain": [
       "0"
      ]
     },
     "execution_count": 17,
     "metadata": {},
     "output_type": "execute_result"
    }
   ],
   "source": [
    "f.seek(0)"
   ]
  },
  {
   "cell_type": "code",
   "execution_count": 18,
   "metadata": {},
   "outputs": [
    {
     "data": {
      "text/plain": [
       "'welcome ! to my world this is me , hello!!!!!'"
      ]
     },
     "execution_count": 18,
     "metadata": {},
     "output_type": "execute_result"
    }
   ],
   "source": [
    "f.read()"
   ]
  },
  {
   "cell_type": "code",
   "execution_count": 21,
   "metadata": {},
   "outputs": [
    {
     "name": "stdout",
     "output_type": "stream",
     "text": [
      "hello\n",
      "hello\n",
      "hello\n",
      "hello\n",
      "hello\n",
      "hello\n",
      "hello\n",
      "hello\n"
     ]
    }
   ],
   "source": [
    "for line in 'file.txt' :\n",
    "    print(\"hello\")"
   ]
  },
  {
   "cell_type": "code",
   "execution_count": 22,
   "metadata": {},
   "outputs": [
    {
     "name": "stdout",
     "output_type": "stream",
     "text": [
      "welcome!!\n",
      "welcome!!\n",
      "welcome!!\n",
      "welcome!!\n",
      "welcome!!\n",
      "welcome!!\n",
      "welcome!!\n",
      "welcome!!\n"
     ]
    }
   ],
   "source": [
    "for line in 'file.txt' :\n",
    "    print(\"welcome!!\")"
   ]
  },
  {
   "cell_type": "code",
   "execution_count": 23,
   "metadata": {},
   "outputs": [
    {
     "data": {
      "text/plain": [
       "22"
      ]
     },
     "execution_count": 23,
     "metadata": {},
     "output_type": "execute_result"
    }
   ],
   "source": [
    "y='this is beyond science'\n",
    "f.write(y)"
   ]
  },
  {
   "cell_type": "code",
   "execution_count": 24,
   "metadata": {},
   "outputs": [
    {
     "data": {
      "text/plain": [
       "0"
      ]
     },
     "execution_count": 24,
     "metadata": {},
     "output_type": "execute_result"
    }
   ],
   "source": [
    "f.seek(0)"
   ]
  },
  {
   "cell_type": "code",
   "execution_count": 26,
   "metadata": {},
   "outputs": [
    {
     "data": {
      "text/plain": [
       "'welcome ! to my world this is me , hello!!!!!this is beyond science'"
      ]
     },
     "execution_count": 26,
     "metadata": {},
     "output_type": "execute_result"
    }
   ],
   "source": [
    "f.read()"
   ]
  },
  {
   "cell_type": "code",
   "execution_count": 27,
   "metadata": {},
   "outputs": [
    {
     "name": "stdout",
     "output_type": "stream",
     "text": [
      "sjkdfh\n",
      "sjkdfh\n",
      "sjkdfh\n",
      "sjkdfh\n",
      "sjkdfh\n",
      "sjkdfh\n",
      "sjkdfh\n",
      "sjkdfh\n"
     ]
    }
   ],
   "source": [
    "for line in 'file.txt' :\n",
    "    print(\"sjkdfh\")"
   ]
  },
  {
   "cell_type": "code",
   "execution_count": 28,
   "metadata": {},
   "outputs": [
    {
     "data": {
      "text/plain": [
       "1"
      ]
     },
     "execution_count": 28,
     "metadata": {},
     "output_type": "execute_result"
    }
   ],
   "source": [
    "f.seek(1)"
   ]
  },
  {
   "cell_type": "code",
   "execution_count": 29,
   "metadata": {},
   "outputs": [
    {
     "data": {
      "text/plain": [
       "23"
      ]
     },
     "execution_count": 29,
     "metadata": {},
     "output_type": "execute_result"
    }
   ],
   "source": [
    "z=\"abra ka dabra ghum ghum\"\n",
    "f.write(z)"
   ]
  },
  {
   "cell_type": "code",
   "execution_count": 30,
   "metadata": {},
   "outputs": [
    {
     "data": {
      "text/plain": [
       "0"
      ]
     },
     "execution_count": 30,
     "metadata": {},
     "output_type": "execute_result"
    }
   ],
   "source": [
    "f.seek(0)"
   ]
  },
  {
   "cell_type": "code",
   "execution_count": 31,
   "metadata": {},
   "outputs": [
    {
     "data": {
      "text/plain": [
       "'wabra ka dabra ghum ghumis is me , hello!!!!!this is beyond science'"
      ]
     },
     "execution_count": 31,
     "metadata": {},
     "output_type": "execute_result"
    }
   ],
   "source": [
    "f.read()"
   ]
  },
  {
   "cell_type": "code",
   "execution_count": 32,
   "metadata": {},
   "outputs": [
    {
     "name": "stdout",
     "output_type": "stream",
     "text": [
      "shjfh\n",
      "shjfh\n",
      "shjfh\n",
      "shjfh\n",
      "shjfh\n",
      "shjfh\n",
      "shjfh\n",
      "shjfh\n"
     ]
    }
   ],
   "source": [
    "for line in 'file.txt' :\n",
    "    print(\"shjfh\")"
   ]
  },
  {
   "cell_type": "code",
   "execution_count": 33,
   "metadata": {},
   "outputs": [],
   "source": [
    "f.close()"
   ]
  },
  {
   "cell_type": "code",
   "execution_count": 35,
   "metadata": {},
   "outputs": [
    {
     "ename": "SyntaxError",
     "evalue": "invalid syntax (<ipython-input-35-78ded2971de3>, line 1)",
     "output_type": "error",
     "traceback": [
      "\u001b[1;36m  File \u001b[1;32m\"<ipython-input-35-78ded2971de3>\"\u001b[1;36m, line \u001b[1;32m1\u001b[0m\n\u001b[1;33m    <html>\u001b[0m\n\u001b[1;37m    ^\u001b[0m\n\u001b[1;31mSyntaxError\u001b[0m\u001b[1;31m:\u001b[0m invalid syntax\n"
     ]
    }
   ],
   "source": [
    "<html>\n",
    "<head>\n",
    "<title> topics to learn </title>\n",
    "<body>\n",
    "<h1> socket prigramming </h1>\n",
    "<h2> File handlinng </h2>\n",
    "<h1> Jason </h1>\n",
    "</body>\n",
    "</head>\n",
    "</html>"
   ]
  },
  {
   "cell_type": "code",
   "execution_count": null,
   "metadata": {},
   "outputs": [],
   "source": []
  }
 ],
 "metadata": {
  "kernelspec": {
   "display_name": "Python 3",
   "language": "python",
   "name": "python3"
  },
  "language_info": {
   "codemirror_mode": {
    "name": "ipython",
    "version": 3
   },
   "file_extension": ".py",
   "mimetype": "text/x-python",
   "name": "python",
   "nbconvert_exporter": "python",
   "pygments_lexer": "ipython3",
   "version": "3.6.5"
  }
 },
 "nbformat": 4,
 "nbformat_minor": 2
}
